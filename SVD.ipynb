{
 "cells": [
  {
   "cell_type": "markdown",
   "metadata": {},
   "source": [
    "# SVD分解的简单推导"
   ]
  },
  {
   "cell_type": "markdown",
   "metadata": {},
   "source": [
    "## 对称矩阵\n",
    "简单起见，以实矩阵的SVD分解作为例子，复矩阵也是类似的\n",
    "\n",
    "对任意一个$m \\times n$的矩阵$A$, 它的秩为$r$,  $A^TA$构成一个$n \\times n$的对称阵，因为\n",
    "$$ (A^TA)^T = A^TA $$"
   ]
  },
  {
   "cell_type": "markdown",
   "metadata": {},
   "source": [
    "## 特征分解\n",
    "根据实谱定理， 对称阵必可**对角化**， 也就是**特征分解**，故必满足下式\n",
    "$$ A^TA = VDV^{-1} $$\n",
    "\n",
    "其中\n",
    "\n",
    "$D$为$A^TA$的特征值$\\lambda_i$组成的对角矩阵，并且按$\\lambda_1 \\geq \\lambda_2 \\geq \\cdots \\geq \\lambda_n$的顺序排列。\n",
    "由于$A$的秩为$r$，可知当$i > r$时， $\\lambda_1 \\geq \\lambda_2 \\geq \\cdots \\geq \\lambda_r > 0 \\cdots  0$\n",
    "\n",
    "$V_{n \\times n}=[v_1, v_2, \\cdots, v_n]$ 是**正交矩阵**，即$V^T=V^{-1}$，$v_i$是特征向量，互相正交，也称为右奇异向量\n",
    "      \n"
   ]
  },
  {
   "cell_type": "markdown",
   "metadata": {},
   "source": [
    "## $ColA$的正交基\n",
    "$\\{Av_1, \\cdots, Av_r\\}$是$ColA$ (秩为r)的一组**正交基**，因为 \n",
    "\n",
    "首先，$Av_i$是$A$的各列的线性组合，所以$\\{Av_i\\}$存在于$ColA$的列空间中\n",
    "\n",
    "其次，$\\{Av_i\\}$是相互正交的，因为\n",
    "\\begin{equation*}\n",
    "    (Av_i)^T(Av_j) = v^T_iA^TAv_j = v^T_i(A^TAv_j) = v^T_i \\lambda_j v_j = \\lambda_j(v^T_i v_j) = 0 \\quad  (i \\neq j) \n",
    "\\end{equation*}\n",
    "    \n"
   ]
  },
  {
   "cell_type": "markdown",
   "metadata": {},
   "source": [
    "### $Av_i$的范数\n",
    "还可以发现$Av_i \\in \\mathbb{R}^m$的范数有如下的规律\n",
    "\n",
    "$$ \\lVert Av_i \\rVert^2 = (Av_i)^TAV_i = v^T_iA^TAv_i = v^T_i \\lambda_i v_i = \\lambda_i \\lVert v_i \\rVert^2 = \\lambda_i\n",
    "\\quad (1 \\leq i \\leq r )\n",
    "$$\n",
    "\n"
   ]
  },
  {
   "cell_type": "markdown",
   "metadata": {},
   "source": [
    "## 奇异值\n",
    "奇异值被定义为$\\lVert Av_i \\rVert = \\sqrt{\\lambda_i} = \\sigma_i$, 利用这个定义将$Av_i$单位化得到$ColA$的一组**单位正交基**，也称为左奇异向量\n",
    "$$ u_i = \\frac{1}{\\lVert Av_i \\rVert} Av_i = \\frac{1}{\\sigma_i} Av_i$$\n",
    "$$ Av_i = \\sigma_i u_i \\quad (1 \\leq i \\leq r )$$\n",
    "可将$\\{u_1, \\cdots, u_r\\} \\in \\mathbb{R}^m$ (共r个)扩充为$\\mathbb{R}^m$一组单位正交基$\\{u_1, \\cdots, u_m\\}$(共m个)"
   ]
  },
  {
   "cell_type": "markdown",
   "metadata": {},
   "source": [
    "## 奇异值分解\n",
    "根据上面的结果有\n",
    "\\begin{align*}\n",
    "AV &= [Av_1, \\cdots, Av_r, 0, \\cdots, 0] \\\\\n",
    "{} &= [\\sigma_1 u_1, \\cdots, \\sigma_r u_r, 0, \\cdots, 0] \\\\\n",
    "{} &= [u_1, \\cdots, u_m]\n",
    "    \\begin{bmatrix}\n",
    "        \\sigma_1 & & & & 0 \\\\\n",
    "         & \\sigma_2 & & & \\\\\n",
    "         & &  \\ddots & & \\vdots \\\\\n",
    "         & & & \\sigma_r & 0 \\\\\n",
    "         0 & & \\cdots & 0 & 0\n",
    "    \\end{bmatrix} \\\\\n",
    "{} &= U\\Sigma \\\\\n",
    "\\end{align*} \n",
    "\n",
    "这样得到了\n",
    "$$ AV = U\\Sigma$$\n",
    "即\n",
    "$$ A = U_{m \\times m} \\Sigma_{m \\times n} V^T_{n \\times n} $$\n",
    "\n",
    "这里$U$是$m \\times m$的酉阵， \n",
    "$V$是$n \\times n$的酉阵， \n",
    "$\\Sigma$是形如$\\begin{bmatrix} D & 0 \\\\ 0 & 0\\end{bmatrix}$ 的$m \\times n$的矩阵, $D$是非零奇异值组成的对角阵"
   ]
  },
  {
   "cell_type": "markdown",
   "metadata": {},
   "source": [
    "## 其它"
   ]
  },
  {
   "cell_type": "markdown",
   "metadata": {},
   "source": [
    "- 将奇异值按降序排列是为了确保$\\Sigma$的唯一性\n"
   ]
  },
  {
   "cell_type": "markdown",
   "metadata": {},
   "source": [
    "- 当$A$为对称正定矩阵时，奇异值分解与特征分值是相同的"
   ]
  },
  {
   "cell_type": "markdown",
   "metadata": {},
   "source": [
    "- 还可以用线性变换的角度理解，将矩阵$A$看作是一个线性变换，当作用于一个向量$\\mathbf{x}$时，有\n",
    "$$ Ax = U \\Sigma V^Tx $$\n",
    "    - 第一次变换： $V^Tx$ 是将向量$x$变换$V$的列，（一组单位正交基）进行表示，得到的是以这组正交基表示的向量。这个变换是保范数的，相当于向量只进行了旋转，长度不变。$V$实际是$RowA$的单位正交基。\n",
    "    - 第二次变换： $\\Sigma V^Tx$ 是将第一次变换后的向量在各个分量上分别进行了缩放\n",
    "    - 第三次变换： 将第二次变换后的向量再次变换$U$的列空间上，$U$实际是$ColA$的单位正交基。"
   ]
  }
 ],
 "metadata": {
  "kernelspec": {
   "display_name": "Python 3",
   "language": "python",
   "name": "python3"
  },
  "language_info": {
   "codemirror_mode": {
    "name": "ipython",
    "version": 3
   },
   "file_extension": ".py",
   "mimetype": "text/x-python",
   "name": "python",
   "nbconvert_exporter": "python",
   "pygments_lexer": "ipython3",
   "version": "3.6.3"
  }
 },
 "nbformat": 4,
 "nbformat_minor": 2
}

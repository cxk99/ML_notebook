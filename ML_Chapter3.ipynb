{
 "cells": [
  {
   "cell_type": "markdown",
   "metadata": {},
   "source": [
    "# Machine Learning Notes (Chapter 3)"
   ]
  },
  {
   "cell_type": "markdown",
   "metadata": {},
   "source": [
    "公式3.9"
   ]
  },
  {
   "cell_type": "markdown",
   "metadata": {},
   "source": [
    "\\begin{equation*}\n",
    "\\newcommand{\\myw}{\\hat{\\boldsymbol{w}}}\n",
    "\\myw^* = \\mathop{\\mathrm{argmin}} \\limits_{\\myw} \\left(\\boldsymbol{y} - \\mathbf{X}\\myw \\right)^T \\left(\\boldsymbol{y} - \\mathbf{X}\\myw \\right) \n",
    "\\end{equation*}"
   ]
  },
  {
   "cell_type": "markdown",
   "metadata": {},
   "source": [
    "令 $$ E_\\hat{\\boldsymbol{w}} = \\left(\\boldsymbol{y} - \\mathbf{X}\\myw \\right)^T \\left(\\boldsymbol{y} - \\mathbf{X}\\myw \\right)$$"
   ]
  },
  {
   "cell_type": "markdown",
   "metadata": {},
   "source": [
    "\\begin{align*}\n",
    "\\newcommand{\\myw}{\\hat{\\boldsymbol{w}}}\n",
    "\\newcommand{\\myy}{\\boldsymbol{y}}\n",
    " \\frac{\\partial E_\\myw}{\\partial \\myw} &= \\frac{\\partial}{\\partial \\myw} \\left( \\myy^T \\myy - \\myy^T \\mathbf{X}\\myw - \\myw^T \\mathbf{X}^T\\myy + \\myw^T\\mathbf{X}^T \\mathbf{X}\\myw \\right) \\\\\n",
    "    &= -2 \\mathbf{X}^T y + 2 \\mathbf{X}^T \\mathbf{X}\\myw \\\\\n",
    "    &= 2 \\mathbf{X}^T \\left( \\mathbf{X}\\myw - \\myy \\right) \\\\\n",
    "\\end{align*}"
   ]
  },
  {
   "cell_type": "markdown",
   "metadata": {},
   "source": [
    "> 这里用了两个矩阵求导的两个结论"
   ]
  },
  {
   "cell_type": "code",
   "execution_count": null,
   "metadata": {
    "collapsed": true
   },
   "outputs": [],
   "source": []
  }
 ],
 "metadata": {
  "kernelspec": {
   "display_name": "Python 3",
   "language": "python",
   "name": "python3"
  },
  "language_info": {
   "codemirror_mode": {
    "name": "ipython",
    "version": 3
   },
   "file_extension": ".py",
   "mimetype": "text/x-python",
   "name": "python",
   "nbconvert_exporter": "python",
   "pygments_lexer": "ipython3",
   "version": "3.6.3"
  }
 },
 "nbformat": 4,
 "nbformat_minor": 2
}
